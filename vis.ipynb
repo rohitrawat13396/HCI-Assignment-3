{
  "nbformat": 4,
  "nbformat_minor": 0,
  "metadata": {
    "colab": {
      "name": "vis.ipynb",
      "provenance": [],
      "collapsed_sections": []
    },
    "kernelspec": {
      "name": "python3",
      "display_name": "Python 3"
    }
  },
  "cells": [
    {
      "cell_type": "code",
      "metadata": {
        "colab": {
          "base_uri": "https://localhost:8080/"
        },
        "id": "bhK7jlnllyaK",
        "outputId": "9911ddf7-5800-44e2-dbb7-d096065da74e"
      },
      "source": [
        "from google.colab import drive\n",
        "drive.mount('/content/drive')"
      ],
      "execution_count": 8,
      "outputs": [
        {
          "output_type": "stream",
          "text": [
            "Drive already mounted at /content/drive; to attempt to forcibly remount, call drive.mount(\"/content/drive\", force_remount=True).\n"
          ],
          "name": "stdout"
        }
      ]
    },
    {
      "cell_type": "code",
      "metadata": {
        "colab": {
          "base_uri": "https://localhost:8080/"
        },
        "id": "HvCj4-KbmIE1",
        "outputId": "84c62e13-1c87-41de-d1fa-4e1acb3c036c"
      },
      "source": [
        "cd \"/content/drive/MyDrive/HCI/Assign3\""
      ],
      "execution_count": 9,
      "outputs": [
        {
          "output_type": "stream",
          "text": [
            "/content/drive/MyDrive/HCI/Assign3\n"
          ],
          "name": "stdout"
        }
      ]
    },
    {
      "cell_type": "code",
      "metadata": {
        "id": "6mbMSjk4mQWt"
      },
      "source": [
        "import pandas as pd\n",
        "import matplotlib.pyplot as plt\n",
        "import seaborn as sns\n",
        "import numpy as np"
      ],
      "execution_count": 10,
      "outputs": []
    },
    {
      "cell_type": "markdown",
      "metadata": {
        "id": "c2LvX84tWhIo"
      },
      "source": [
        "**Task1: Visualizations of q1.py**"
      ]
    },
    {
      "cell_type": "code",
      "metadata": {
        "id": "BKT3IxGXmZRT"
      },
      "source": [
        "data = pd.read_csv(\"dataset1.csv\")"
      ],
      "execution_count": 11,
      "outputs": []
    },
    {
      "cell_type": "code",
      "metadata": {
        "colab": {
          "base_uri": "https://localhost:8080/",
          "height": 195
        },
        "id": "Jt3f7Iz7ma_L",
        "outputId": "e5c5f48f-f576-41cb-9da5-e446e2487fa0"
      },
      "source": [
        "data.head()"
      ],
      "execution_count": 12,
      "outputs": [
        {
          "output_type": "execute_result",
          "data": {
            "text/html": [
              "<div>\n",
              "<style scoped>\n",
              "    .dataframe tbody tr th:only-of-type {\n",
              "        vertical-align: middle;\n",
              "    }\n",
              "\n",
              "    .dataframe tbody tr th {\n",
              "        vertical-align: top;\n",
              "    }\n",
              "\n",
              "    .dataframe thead th {\n",
              "        text-align: right;\n",
              "    }\n",
              "</style>\n",
              "<table border=\"1\" class=\"dataframe\">\n",
              "  <thead>\n",
              "    <tr style=\"text-align: right;\">\n",
              "      <th></th>\n",
              "      <th>user</th>\n",
              "      <th>time</th>\n",
              "      <th>menu</th>\n",
              "    </tr>\n",
              "  </thead>\n",
              "  <tbody>\n",
              "    <tr>\n",
              "      <th>0</th>\n",
              "      <td>1</td>\n",
              "      <td>2.53</td>\n",
              "      <td>toolglass</td>\n",
              "    </tr>\n",
              "    <tr>\n",
              "      <th>1</th>\n",
              "      <td>2</td>\n",
              "      <td>2.10</td>\n",
              "      <td>toolglass</td>\n",
              "    </tr>\n",
              "    <tr>\n",
              "      <th>2</th>\n",
              "      <td>3</td>\n",
              "      <td>3.05</td>\n",
              "      <td>toolglass</td>\n",
              "    </tr>\n",
              "    <tr>\n",
              "      <th>3</th>\n",
              "      <td>4</td>\n",
              "      <td>2.32</td>\n",
              "      <td>toolglass</td>\n",
              "    </tr>\n",
              "    <tr>\n",
              "      <th>4</th>\n",
              "      <td>5</td>\n",
              "      <td>2.38</td>\n",
              "      <td>toolglass</td>\n",
              "    </tr>\n",
              "  </tbody>\n",
              "</table>\n",
              "</div>"
            ],
            "text/plain": [
              "   user  time       menu\n",
              "0     1  2.53  toolglass\n",
              "1     2  2.10  toolglass\n",
              "2     3  3.05  toolglass\n",
              "3     4  2.32  toolglass\n",
              "4     5  2.38  toolglass"
            ]
          },
          "metadata": {
            "tags": []
          },
          "execution_count": 12
        }
      ]
    },
    {
      "cell_type": "code",
      "metadata": {
        "colab": {
          "base_uri": "https://localhost:8080/",
          "height": 295
        },
        "id": "wlw-HC4Rm6vA",
        "outputId": "2181b19b-cc5d-48b9-e10e-b4abd118a69f"
      },
      "source": [
        "ax = sns.boxplot(x='menu', y='time', data=data)\n",
        "ax = sns.swarmplot(x=\"menu\", y=\"time\", data=data, color='blue')\n",
        "plt.title(\"Boxplot: menu vs time\")\n",
        "plt.show()"
      ],
      "execution_count": 13,
      "outputs": [
        {
          "output_type": "display_data",
          "data": {
            "image/png": "[encoded data removed]",
            "text/plain": [
              "<Figure size 432x288 with 1 Axes>"
            ]
          },
          "metadata": {
            "tags": [],
            "needs_background": "light"
          }
        }
      ]
    },
    {
      "cell_type": "code",
      "metadata": {
        "colab": {
          "base_uri": "https://localhost:8080/",
          "height": 295
        },
        "id": "cZqzI4JWpfP8",
        "outputId": "9b5aa75e-6f45-499f-f9ed-7e5e238b3b2f"
      },
      "source": [
        "data_m = data.groupby([\"menu\"]).mean().reset_index()\n",
        "sns.barplot( x = \"menu\", y= \"time\",data = data_m )\n",
        "plt.xlabel(\"menu\")\n",
        "plt.ylabel(\"mean of task completion time\")\n",
        "plt.title(\"Barplot: menu vs mean of time\")\n",
        "plt.show()"
      ],
      "execution_count": 14,
      "outputs": [
        {
          "output_type": "display_data",
          "data": {
            "image/png": "[encoded data removed]",
            "text/plain": [
              "<Figure size 432x288 with 1 Axes>"
            ]
          },
          "metadata": {
            "tags": [],
            "needs_background": "light"
          }
        }
      ]
    },
    {
      "cell_type": "markdown",
      "metadata": {
        "id": "TSkiri-xWoKi"
      },
      "source": [
        "**Task2: Visualizations of q2.py**"
      ]
    },
    {
      "cell_type": "code",
      "metadata": {
        "id": "0msQX2i9xSZx"
      },
      "source": [
        "data_2 = pd.read_csv(\"dataset2.csv\")"
      ],
      "execution_count": 15,
      "outputs": []
    },
    {
      "cell_type": "code",
      "metadata": {
        "colab": {
          "base_uri": "https://localhost:8080/",
          "height": 195
        },
        "id": "mAkl8hffxWUl",
        "outputId": "e0927792-a0ea-460c-9262-8bc25e5a1e5e"
      },
      "source": [
        "data_2.head()"
      ],
      "execution_count": 16,
      "outputs": [
        {
          "output_type": "execute_result",
          "data": {
            "text/html": [
              "<div>\n",
              "<style scoped>\n",
              "    .dataframe tbody tr th:only-of-type {\n",
              "        vertical-align: middle;\n",
              "    }\n",
              "\n",
              "    .dataframe tbody tr th {\n",
              "        vertical-align: top;\n",
              "    }\n",
              "\n",
              "    .dataframe thead th {\n",
              "        text-align: right;\n",
              "    }\n",
              "</style>\n",
              "<table border=\"1\" class=\"dataframe\">\n",
              "  <thead>\n",
              "    <tr style=\"text-align: right;\">\n",
              "      <th></th>\n",
              "      <th>user</th>\n",
              "      <th>time</th>\n",
              "      <th>error</th>\n",
              "      <th>menu</th>\n",
              "    </tr>\n",
              "  </thead>\n",
              "  <tbody>\n",
              "    <tr>\n",
              "      <th>0</th>\n",
              "      <td>1</td>\n",
              "      <td>2.58</td>\n",
              "      <td>2</td>\n",
              "      <td>toolglass</td>\n",
              "    </tr>\n",
              "    <tr>\n",
              "      <th>1</th>\n",
              "      <td>2</td>\n",
              "      <td>2.10</td>\n",
              "      <td>5</td>\n",
              "      <td>toolglass</td>\n",
              "    </tr>\n",
              "    <tr>\n",
              "      <th>2</th>\n",
              "      <td>3</td>\n",
              "      <td>3.05</td>\n",
              "      <td>6</td>\n",
              "      <td>toolglass</td>\n",
              "    </tr>\n",
              "    <tr>\n",
              "      <th>3</th>\n",
              "      <td>4</td>\n",
              "      <td>2.61</td>\n",
              "      <td>6</td>\n",
              "      <td>toolglass</td>\n",
              "    </tr>\n",
              "    <tr>\n",
              "      <th>4</th>\n",
              "      <td>5</td>\n",
              "      <td>2.36</td>\n",
              "      <td>5</td>\n",
              "      <td>toolglass</td>\n",
              "    </tr>\n",
              "  </tbody>\n",
              "</table>\n",
              "</div>"
            ],
            "text/plain": [
              "   user  time  error       menu\n",
              "0     1  2.58      2  toolglass\n",
              "1     2  2.10      5  toolglass\n",
              "2     3  3.05      6  toolglass\n",
              "3     4  2.61      6  toolglass\n",
              "4     5  2.36      5  toolglass"
            ]
          },
          "metadata": {
            "tags": []
          },
          "execution_count": 16
        }
      ]
    },
    {
      "cell_type": "code",
      "metadata": {
        "colab": {
          "base_uri": "https://localhost:8080/",
          "height": 295
        },
        "id": "Ug8xce8XxdIQ",
        "outputId": "af5a8f69-b31b-4abd-9dcf-29fe14d439a4"
      },
      "source": [
        "ax = sns.boxplot(x='menu', y='time', data=data_2)\n",
        "ax = sns.swarmplot(x=\"menu\", y=\"time\", data=data_2, color='blue')\n",
        "plt.title(\"Boxplot: menu vs time\")\n",
        "plt.show()"
      ],
      "execution_count": 17,
      "outputs": [
        {
          "output_type": "display_data",
          "data": {
            "image/png": "[encoded data removed]",
            "text/plain": [
              "<Figure size 432x288 with 1 Axes>"
            ]
          },
          "metadata": {
            "tags": [],
            "needs_background": "light"
          }
        }
      ]
    },
    {
      "cell_type": "code",
      "metadata": {
        "colab": {
          "base_uri": "https://localhost:8080/",
          "height": 295
        },
        "id": "TjdMXfhnx20l",
        "outputId": "6580491b-e93a-4a25-f99c-9923c85404d3"
      },
      "source": [
        "ax = sns.boxplot(x='menu', y='error', data=data_2)\n",
        "ax = sns.swarmplot(x=\"menu\", y=\"error\", data=data_2,color= \"blue\")\n",
        "plt.title(\"Boxplot: menu vs error\")\n",
        "plt.show()"
      ],
      "execution_count": 18,
      "outputs": [
        {
          "output_type": "display_data",
          "data": {
            "image/png": "[encoded data removed]",
            "text/plain": [
              "<Figure size 432x288 with 1 Axes>"
            ]
          },
          "metadata": {
            "tags": [],
            "needs_background": "light"
          }
        }
      ]
    },
    {
      "cell_type": "code",
      "metadata": {
        "colab": {
          "base_uri": "https://localhost:8080/",
          "height": 166
        },
        "id": "6VFS3QuZ3Vaf",
        "outputId": "dde72dbc-ee36-4101-ff79-e554ca7ecdd0"
      },
      "source": [
        "data_2.groupby([\"menu\"]).mean().reset_index()"
      ],
      "execution_count": 19,
      "outputs": [
        {
          "output_type": "execute_result",
          "data": {
            "text/html": [
              "<div>\n",
              "<style scoped>\n",
              "    .dataframe tbody tr th:only-of-type {\n",
              "        vertical-align: middle;\n",
              "    }\n",
              "\n",
              "    .dataframe tbody tr th {\n",
              "        vertical-align: top;\n",
              "    }\n",
              "\n",
              "    .dataframe thead th {\n",
              "        text-align: right;\n",
              "    }\n",
              "</style>\n",
              "<table border=\"1\" class=\"dataframe\">\n",
              "  <thead>\n",
              "    <tr style=\"text-align: right;\">\n",
              "      <th></th>\n",
              "      <th>menu</th>\n",
              "      <th>user</th>\n",
              "      <th>time</th>\n",
              "      <th>error</th>\n",
              "    </tr>\n",
              "  </thead>\n",
              "  <tbody>\n",
              "    <tr>\n",
              "      <th>0</th>\n",
              "      <td>controlmenu</td>\n",
              "      <td>5.5</td>\n",
              "      <td>2.414</td>\n",
              "      <td>19.7</td>\n",
              "    </tr>\n",
              "    <tr>\n",
              "      <th>1</th>\n",
              "      <td>flowmenu</td>\n",
              "      <td>5.5</td>\n",
              "      <td>2.398</td>\n",
              "      <td>19.7</td>\n",
              "    </tr>\n",
              "    <tr>\n",
              "      <th>2</th>\n",
              "      <td>toolglass</td>\n",
              "      <td>5.5</td>\n",
              "      <td>2.504</td>\n",
              "      <td>4.1</td>\n",
              "    </tr>\n",
              "    <tr>\n",
              "      <th>3</th>\n",
              "      <td>toolpalette</td>\n",
              "      <td>5.5</td>\n",
              "      <td>2.730</td>\n",
              "      <td>12.8</td>\n",
              "    </tr>\n",
              "  </tbody>\n",
              "</table>\n",
              "</div>"
            ],
            "text/plain": [
              "          menu  user   time  error\n",
              "0  controlmenu   5.5  2.414   19.7\n",
              "1     flowmenu   5.5  2.398   19.7\n",
              "2    toolglass   5.5  2.504    4.1\n",
              "3  toolpalette   5.5  2.730   12.8"
            ]
          },
          "metadata": {
            "tags": []
          },
          "execution_count": 19
        }
      ]
    },
    {
      "cell_type": "code",
      "metadata": {
        "colab": {
          "base_uri": "https://localhost:8080/",
          "height": 295
        },
        "id": "MjcRYG3iHDw6",
        "outputId": "897f53cb-0464-493c-c3c9-1964bfa3e307"
      },
      "source": [
        "data_m_2 = data_2.groupby([\"menu\"]).mean().reset_index()\n",
        "ax = sns.barplot( x = \"menu\", y= \"time\",data = data_m_2)\n",
        "plt.xlabel(\"menu\")\n",
        "plt.ylabel(\"mean of task completion time\")\n",
        "plt.title(\"Barplot: menu vs mean of time\")\n",
        "# plt.legend()\n",
        "plt.show()"
      ],
      "execution_count": 22,
      "outputs": [
        {
          "output_type": "display_data",
          "data": {
            "image/png": "[encoded data removed]",
            "text/plain": [
              "<Figure size 432x288 with 1 Axes>"
            ]
          },
          "metadata": {
            "tags": [],
            "needs_background": "light"
          }
        }
      ]
    },
    {
      "cell_type": "code",
      "metadata": {
        "colab": {
          "base_uri": "https://localhost:8080/",
          "height": 295
        },
        "id": "CQW_UeGuWUag",
        "outputId": "8d30b3b8-3335-40c7-e86b-eb88762bff37"
      },
      "source": [
        "data_m_2 = data_2.groupby([\"menu\"]).mean().reset_index()\n",
        "ax = sns.barplot( x = \"menu\", y= \"error\",data = data_m_2)\n",
        "plt.xlabel(\"menu\")\n",
        "plt.ylabel(\"mean of error\")\n",
        "plt.title(\"Barplot: menu vs mean of error\")\n",
        "# plt.legend()\n",
        "plt.show()"
      ],
      "execution_count": 23,
      "outputs": [
        {
          "output_type": "display_data",
          "data": {
            "image/png": "[encoded data removed]",
            "text/plain": [
              "<Figure size 432x288 with 1 Axes>"
            ]
          },
          "metadata": {
            "tags": [],
            "needs_background": "light"
          }
        }
      ]
    }
  ]
}